{
 "cells": [
  {
   "cell_type": "markdown",
   "source": [
    "# Машинне навчання\n",
    "## Лабораторна робота №1. Авельцев Йосип\n",
    "### 1. Визначити типи ознак та їх допустимі значення, ознайомившись з описанням набору даних."
   ],
   "metadata": {
    "collapsed": false,
    "pycharm": {
     "name": "#%% md\n"
    }
   }
  },
  {
   "cell_type": "markdown",
   "source": [
    "### 2. Завантажити набір даних у DataFrame і вивести на екран перші декілька рядків."
   ],
   "metadata": {
    "collapsed": false,
    "pycharm": {
     "name": "#%% md\n"
    }
   }
  },
  {
   "cell_type": "code",
   "source": [
    "import pandas as pd\n",
    "\n",
    "titanic_file_path = 'train.csv'\n",
    "titanic_data = pd.read_csv(titanic_file_path)\n",
    "\n",
    "titanic_data.head()\n"
   ],
   "metadata": {
    "collapsed": false,
    "pycharm": {
     "name": "#%%\n"
    }
   },
   "execution_count": 505,
   "outputs": [
    {
     "data": {
      "text/plain": "   PassengerId  Survived  Pclass  \\\n0            1         0       3   \n1            2         1       1   \n2            3         1       3   \n3            4         1       1   \n4            5         0       3   \n\n                                                Name     Sex   Age  SibSp  \\\n0                            Braund, Mr. Owen Harris    male  22.0      1   \n1  Cumings, Mrs. John Bradley (Florence Briggs Th...  female  38.0      1   \n2                             Heikkinen, Miss. Laina  female  26.0      0   \n3       Futrelle, Mrs. Jacques Heath (Lily May Peel)  female  35.0      1   \n4                           Allen, Mr. William Henry    male  35.0      0   \n\n   Parch            Ticket     Fare Cabin Embarked  \n0      0         A/5 21171   7.2500   NaN        S  \n1      0          PC 17599  71.2833   C85        C  \n2      0  STON/O2. 3101282   7.9250   NaN        S  \n3      0            113803  53.1000  C123        S  \n4      0            373450   8.0500   NaN        S  ",
      "text/html": "<div>\n<style scoped>\n    .dataframe tbody tr th:only-of-type {\n        vertical-align: middle;\n    }\n\n    .dataframe tbody tr th {\n        vertical-align: top;\n    }\n\n    .dataframe thead th {\n        text-align: right;\n    }\n</style>\n<table border=\"1\" class=\"dataframe\">\n  <thead>\n    <tr style=\"text-align: right;\">\n      <th></th>\n      <th>PassengerId</th>\n      <th>Survived</th>\n      <th>Pclass</th>\n      <th>Name</th>\n      <th>Sex</th>\n      <th>Age</th>\n      <th>SibSp</th>\n      <th>Parch</th>\n      <th>Ticket</th>\n      <th>Fare</th>\n      <th>Cabin</th>\n      <th>Embarked</th>\n    </tr>\n  </thead>\n  <tbody>\n    <tr>\n      <th>0</th>\n      <td>1</td>\n      <td>0</td>\n      <td>3</td>\n      <td>Braund, Mr. Owen Harris</td>\n      <td>male</td>\n      <td>22.0</td>\n      <td>1</td>\n      <td>0</td>\n      <td>A/5 21171</td>\n      <td>7.2500</td>\n      <td>NaN</td>\n      <td>S</td>\n    </tr>\n    <tr>\n      <th>1</th>\n      <td>2</td>\n      <td>1</td>\n      <td>1</td>\n      <td>Cumings, Mrs. John Bradley (Florence Briggs Th...</td>\n      <td>female</td>\n      <td>38.0</td>\n      <td>1</td>\n      <td>0</td>\n      <td>PC 17599</td>\n      <td>71.2833</td>\n      <td>C85</td>\n      <td>C</td>\n    </tr>\n    <tr>\n      <th>2</th>\n      <td>3</td>\n      <td>1</td>\n      <td>3</td>\n      <td>Heikkinen, Miss. Laina</td>\n      <td>female</td>\n      <td>26.0</td>\n      <td>0</td>\n      <td>0</td>\n      <td>STON/O2. 3101282</td>\n      <td>7.9250</td>\n      <td>NaN</td>\n      <td>S</td>\n    </tr>\n    <tr>\n      <th>3</th>\n      <td>4</td>\n      <td>1</td>\n      <td>1</td>\n      <td>Futrelle, Mrs. Jacques Heath (Lily May Peel)</td>\n      <td>female</td>\n      <td>35.0</td>\n      <td>1</td>\n      <td>0</td>\n      <td>113803</td>\n      <td>53.1000</td>\n      <td>C123</td>\n      <td>S</td>\n    </tr>\n    <tr>\n      <th>4</th>\n      <td>5</td>\n      <td>0</td>\n      <td>3</td>\n      <td>Allen, Mr. William Henry</td>\n      <td>male</td>\n      <td>35.0</td>\n      <td>0</td>\n      <td>0</td>\n      <td>373450</td>\n      <td>8.0500</td>\n      <td>NaN</td>\n      <td>S</td>\n    </tr>\n  </tbody>\n</table>\n</div>"
     },
     "execution_count": 505,
     "metadata": {},
     "output_type": "execute_result"
    }
   ]
  },
  {
   "cell_type": "markdown",
   "source": [
    "### 3. Програмно встановити назви стовпців DataFrame, якщо у файлі з набором даних\n",
    "вони не містяться. Назви стовпців є в описанні набору даних.\n",
    "\n",
    "Назви містяться."
   ],
   "metadata": {
    "collapsed": false,
    "pycharm": {
     "name": "#%% md\n"
    }
   }
  },
  {
   "cell_type": "markdown",
   "source": [
    "### 4. Вивести на екран кількість рядків та стовпців у DataFrame, типи стовпців DataFrame.\n"
   ],
   "metadata": {
    "collapsed": false
   }
  },
  {
   "cell_type": "code",
   "execution_count": 506,
   "outputs": [
    {
     "name": "stdout",
     "output_type": "stream",
     "text": [
      "<class 'pandas.core.frame.DataFrame'>\n",
      "RangeIndex: 891 entries, 0 to 890\n",
      "Data columns (total 12 columns):\n",
      " #   Column       Non-Null Count  Dtype  \n",
      "---  ------       --------------  -----  \n",
      " 0   PassengerId  891 non-null    int64  \n",
      " 1   Survived     891 non-null    int64  \n",
      " 2   Pclass       891 non-null    int64  \n",
      " 3   Name         891 non-null    object \n",
      " 4   Sex          891 non-null    object \n",
      " 5   Age          714 non-null    float64\n",
      " 6   SibSp        891 non-null    int64  \n",
      " 7   Parch        891 non-null    int64  \n",
      " 8   Ticket       891 non-null    object \n",
      " 9   Fare         891 non-null    float64\n",
      " 10  Cabin        204 non-null    object \n",
      " 11  Embarked     889 non-null    object \n",
      "dtypes: float64(2), int64(5), object(5)\n",
      "memory usage: 83.7+ KB\n"
     ]
    }
   ],
   "source": [
    "titanic_data.info()"
   ],
   "metadata": {
    "collapsed": false,
    "pycharm": {
     "name": "#%%\n"
    }
   }
  },
  {
   "cell_type": "markdown",
   "source": [
    "### 5. Вивести таблицю з основними характеристиками кожної ознаки (для кількісних\n",
    "ознак – мінімум, максимум, середнє, середньоквадратичне відхилення, 1-й, 2-й та\n",
    "3-й квартилі; для якісних – кількість унікальних значень, модальне значення та його\n",
    "частота).\n",
    "\n",
    "Кількісні:"
   ],
   "metadata": {
    "collapsed": false
   }
  },
  {
   "cell_type": "code",
   "execution_count": 507,
   "outputs": [
    {
     "data": {
      "text/plain": "       PassengerId    Survived      Pclass         Age       SibSp  \\\ncount   891.000000  891.000000  891.000000  714.000000  891.000000   \nmean    446.000000    0.383838    2.308642   29.699118    0.523008   \nstd     257.353842    0.486592    0.836071   14.526497    1.102743   \nmin       1.000000    0.000000    1.000000    0.420000    0.000000   \n25%     223.500000    0.000000    2.000000   20.125000    0.000000   \n50%     446.000000    0.000000    3.000000   28.000000    0.000000   \n75%     668.500000    1.000000    3.000000   38.000000    1.000000   \nmax     891.000000    1.000000    3.000000   80.000000    8.000000   \n\n            Parch        Fare  \ncount  891.000000  891.000000  \nmean     0.381594   32.204208  \nstd      0.806057   49.693429  \nmin      0.000000    0.000000  \n25%      0.000000    7.910400  \n50%      0.000000   14.454200  \n75%      0.000000   31.000000  \nmax      6.000000  512.329200  ",
      "text/html": "<div>\n<style scoped>\n    .dataframe tbody tr th:only-of-type {\n        vertical-align: middle;\n    }\n\n    .dataframe tbody tr th {\n        vertical-align: top;\n    }\n\n    .dataframe thead th {\n        text-align: right;\n    }\n</style>\n<table border=\"1\" class=\"dataframe\">\n  <thead>\n    <tr style=\"text-align: right;\">\n      <th></th>\n      <th>PassengerId</th>\n      <th>Survived</th>\n      <th>Pclass</th>\n      <th>Age</th>\n      <th>SibSp</th>\n      <th>Parch</th>\n      <th>Fare</th>\n    </tr>\n  </thead>\n  <tbody>\n    <tr>\n      <th>count</th>\n      <td>891.000000</td>\n      <td>891.000000</td>\n      <td>891.000000</td>\n      <td>714.000000</td>\n      <td>891.000000</td>\n      <td>891.000000</td>\n      <td>891.000000</td>\n    </tr>\n    <tr>\n      <th>mean</th>\n      <td>446.000000</td>\n      <td>0.383838</td>\n      <td>2.308642</td>\n      <td>29.699118</td>\n      <td>0.523008</td>\n      <td>0.381594</td>\n      <td>32.204208</td>\n    </tr>\n    <tr>\n      <th>std</th>\n      <td>257.353842</td>\n      <td>0.486592</td>\n      <td>0.836071</td>\n      <td>14.526497</td>\n      <td>1.102743</td>\n      <td>0.806057</td>\n      <td>49.693429</td>\n    </tr>\n    <tr>\n      <th>min</th>\n      <td>1.000000</td>\n      <td>0.000000</td>\n      <td>1.000000</td>\n      <td>0.420000</td>\n      <td>0.000000</td>\n      <td>0.000000</td>\n      <td>0.000000</td>\n    </tr>\n    <tr>\n      <th>25%</th>\n      <td>223.500000</td>\n      <td>0.000000</td>\n      <td>2.000000</td>\n      <td>20.125000</td>\n      <td>0.000000</td>\n      <td>0.000000</td>\n      <td>7.910400</td>\n    </tr>\n    <tr>\n      <th>50%</th>\n      <td>446.000000</td>\n      <td>0.000000</td>\n      <td>3.000000</td>\n      <td>28.000000</td>\n      <td>0.000000</td>\n      <td>0.000000</td>\n      <td>14.454200</td>\n    </tr>\n    <tr>\n      <th>75%</th>\n      <td>668.500000</td>\n      <td>1.000000</td>\n      <td>3.000000</td>\n      <td>38.000000</td>\n      <td>1.000000</td>\n      <td>0.000000</td>\n      <td>31.000000</td>\n    </tr>\n    <tr>\n      <th>max</th>\n      <td>891.000000</td>\n      <td>1.000000</td>\n      <td>3.000000</td>\n      <td>80.000000</td>\n      <td>8.000000</td>\n      <td>6.000000</td>\n      <td>512.329200</td>\n    </tr>\n  </tbody>\n</table>\n</div>"
     },
     "execution_count": 507,
     "metadata": {},
     "output_type": "execute_result"
    }
   ],
   "source": [
    "titanic_data.describe()"
   ],
   "metadata": {
    "collapsed": false,
    "pycharm": {
     "name": "#%%\n"
    }
   }
  },
  {
   "cell_type": "markdown",
   "source": [
    "Якісні:"
   ],
   "metadata": {
    "collapsed": false
   }
  },
  {
   "cell_type": "code",
   "execution_count": 508,
   "outputs": [
    {
     "data": {
      "text/plain": "                                   Name   Sex  Ticket        Cabin Embarked\ncount                               891   891     891          204      889\nunique                              891     2     681          147        3\ntop     Hamalainen, Mrs. William (Anna)  male  347082  C23 C25 C27        S\nfreq                                  1   577       7            4      644",
      "text/html": "<div>\n<style scoped>\n    .dataframe tbody tr th:only-of-type {\n        vertical-align: middle;\n    }\n\n    .dataframe tbody tr th {\n        vertical-align: top;\n    }\n\n    .dataframe thead th {\n        text-align: right;\n    }\n</style>\n<table border=\"1\" class=\"dataframe\">\n  <thead>\n    <tr style=\"text-align: right;\">\n      <th></th>\n      <th>Name</th>\n      <th>Sex</th>\n      <th>Ticket</th>\n      <th>Cabin</th>\n      <th>Embarked</th>\n    </tr>\n  </thead>\n  <tbody>\n    <tr>\n      <th>count</th>\n      <td>891</td>\n      <td>891</td>\n      <td>891</td>\n      <td>204</td>\n      <td>889</td>\n    </tr>\n    <tr>\n      <th>unique</th>\n      <td>891</td>\n      <td>2</td>\n      <td>681</td>\n      <td>147</td>\n      <td>3</td>\n    </tr>\n    <tr>\n      <th>top</th>\n      <td>Hamalainen, Mrs. William (Anna)</td>\n      <td>male</td>\n      <td>347082</td>\n      <td>C23 C25 C27</td>\n      <td>S</td>\n    </tr>\n    <tr>\n      <th>freq</th>\n      <td>1</td>\n      <td>577</td>\n      <td>7</td>\n      <td>4</td>\n      <td>644</td>\n    </tr>\n  </tbody>\n</table>\n</div>"
     },
     "execution_count": 508,
     "metadata": {},
     "output_type": "execute_result"
    }
   ],
   "source": [
    "titanic_data.describe(include=['O'])"
   ],
   "metadata": {
    "collapsed": false,
    "pycharm": {
     "name": "#%%\n"
    }
   }
  },
  {
   "cell_type": "markdown",
   "source": [
    "### 6. Перевірити наявність пропусків в наборі даних, вивести на екран кількість\n",
    "пропущених значень у кожному стовпці."
   ],
   "metadata": {
    "collapsed": false
   }
  },
  {
   "cell_type": "code",
   "execution_count": 509,
   "outputs": [
    {
     "data": {
      "text/plain": "PassengerId      0\nSurvived         0\nPclass           0\nName             0\nSex              0\nAge            177\nSibSp            0\nParch            0\nTicket           0\nFare             0\nCabin          687\nEmbarked         2\ndtype: int64"
     },
     "execution_count": 509,
     "metadata": {},
     "output_type": "execute_result"
    }
   ],
   "source": [
    "titanic_data.isnull().sum()"
   ],
   "metadata": {
    "collapsed": false,
    "pycharm": {
     "name": "#%%\n"
    }
   }
  },
  {
   "cell_type": "markdown",
   "source": [
    "### 8. Якщо  у  наборі  даних  є  пропуски,  видалити  або  заповнити  їх.  Потрібно  вміти видаляти усі та лише частину рядків/стовпців з пропусками, а також заповнювати пропуски середнім значенням/медіаною/модою по усій вибірці та по даним лише відповідного класу."
   ],
   "metadata": {
    "collapsed": false
   }
  },
  {
   "cell_type": "code",
   "execution_count": 510,
   "outputs": [
    {
     "data": {
      "text/plain": "PassengerId    0\nSurvived       0\nPclass         0\nName           0\nSex            0\nAge            0\nSibSp          0\nParch          0\nTicket         0\nFare           0\nCabin          0\nEmbarked       0\ndtype: int64"
     },
     "execution_count": 510,
     "metadata": {},
     "output_type": "execute_result"
    }
   ],
   "source": [
    "titanic_data = titanic_data.dropna()\n",
    "titanic_data.isnull().sum()"
   ],
   "metadata": {
    "collapsed": false,
    "pycharm": {
     "name": "#%%\n"
    }
   }
  },
  {
   "cell_type": "markdown",
   "source": [
    "### 7. Перевірити  наявність  аномальних  значень  в  наборі  даних.  Для  кожного  стовпця вивести перелік знайдених аномальних значень. Якщо аномалії знайдено, вилучити їх або помітити як пропущені.\n",
    "\n",
    "    https://towardsdatascience.com/ways-to-detect-and-remove-the-outliers-404d16608dba"
   ],
   "metadata": {
    "collapsed": false
   }
  },
  {
   "cell_type": "code",
   "execution_count": 511,
   "outputs": [
    {
     "data": {
      "text/plain": "<Figure size 432x288 with 1 Axes>",
      "image/png": "[encoded data removed]"
     },
     "metadata": {
      "needs_background": "light"
     },
     "output_type": "display_data"
    },
    {
     "data": {
      "text/plain": "<Figure size 432x288 with 1 Axes>",
      "image/png": "[encoded data removed]"
     },
     "metadata": {
      "needs_background": "light"
     },
     "output_type": "display_data"
    },
    {
     "data": {
      "text/plain": "<Figure size 432x288 with 1 Axes>",
      "image/png": "[encoded data removed]"
     },
     "metadata": {
      "needs_background": "light"
     },
     "output_type": "display_data"
    },
    {
     "data": {
      "text/plain": "<Figure size 432x288 with 1 Axes>",
      "image/png": "[encoded data removed]"
     },
     "metadata": {
      "needs_background": "light"
     },
     "output_type": "display_data"
    },
    {
     "data": {
      "text/plain": "<Figure size 432x288 with 1 Axes>",
      "image/png": "[encoded data removed]"
     },
     "metadata": {
      "needs_background": "light"
     },
     "output_type": "display_data"
    },
    {
     "data": {
      "text/plain": "<Figure size 432x288 with 1 Axes>",
      "image/png": "[encoded data removed]"
     },
     "metadata": {
      "needs_background": "light"
     },
     "output_type": "display_data"
    },
    {
     "data": {
      "text/plain": "<Figure size 432x288 with 1 Axes>",
      "image/png": "[encoded data removed]"
     },
     "metadata": {
      "needs_background": "light"
     },
     "output_type": "display_data"
    }
   ],
   "source": [
    "import seaborn as sns\n",
    "import matplotlib.pyplot as plt\n",
    "import numpy as np\n",
    "\n",
    "def print_boxplots(data):\n",
    "    for col in data.columns:\n",
    "        plt.figure()\n",
    "        sns.boxplot(x=data[col])\n",
    "\n",
    "titanic_data_num = titanic_data.select_dtypes(include=[np.number])\n",
    "print_boxplots(titanic_data_num)"
   ],
   "metadata": {
    "collapsed": false,
    "pycharm": {
     "name": "#%%\n"
    }
   }
  },
  {
   "cell_type": "code",
   "source": [
    "from scipy import stats\n",
    "import numpy as np\n",
    "\n",
    "print(titanic_data_num.shape)\n",
    "titanic_data_num = titanic_data_num[(np.abs(stats.zscore(titanic_data_num)) < 3).all(axis=1)]\n",
    "print(titanic_data_num.shape)\n",
    "\n",
    "titanic_data[titanic_data_num.columns] = titanic_data_num\n",
    "titanic_data = titanic_data.dropna()\n"
   ],
   "metadata": {
    "collapsed": false,
    "pycharm": {
     "name": "#%%\n"
    }
   },
   "execution_count": 512,
   "outputs": [
    {
     "name": "stdout",
     "output_type": "stream",
     "text": [
      "(183, 7)\n",
      "(167, 7)\n"
     ]
    }
   ]
  },
  {
   "cell_type": "markdown",
   "source": [
    "### 9. Перевірити, чи збалансовані класи. Для цього побудувати стовпчасту або кругову діаграму, що відображає долю об’єктів кожного класу в наборі даних.\n"
   ],
   "metadata": {
    "collapsed": false
   }
  },
  {
   "cell_type": "code",
   "execution_count": 513,
   "outputs": [
    {
     "data": {
      "text/plain": "([<matplotlib.patches.Wedge at 0x24321f15ca0>,\n  <matplotlib.patches.Wedge at 0x24321f15190>],\n [Text(-0.5970767245552646, 0.9238503044294335, '1.0'),\n  Text(0.5970766380581539, -0.9238503603317869, '0.0')],\n [Text(-0.32567821339378067, 0.5039183478706, '68.3%'),\n  Text(0.32567816621353846, -0.5039183783627927, '31.7%')])"
     },
     "execution_count": 513,
     "metadata": {},
     "output_type": "execute_result"
    },
    {
     "data": {
      "text/plain": "<Figure size 432x288 with 1 Axes>",
      "image/png": "[encoded data removed]"
     },
     "metadata": {},
     "output_type": "display_data"
    }
   ],
   "source": [
    "s = titanic_data[\"Survived\"].value_counts() / len(titanic_data) * 100\n",
    "plt.pie(s.values, labels=s.index, autopct='%.1f%%')"
   ],
   "metadata": {
    "collapsed": false,
    "pycharm": {
     "name": "#%%\n"
    }
   }
  },
  {
   "cell_type": "markdown",
   "source": [
    "### 10. Виконати перетворення якісних ознак. Необхідно опанувати два типи перетворень: перетворення  кожної  якісної  ознаки  в  набір  бінарних ознак  (даммі  змінних)  та перекодування значень ознаки в числа."
   ],
   "metadata": {
    "collapsed": false
   }
  },
  {
   "cell_type": "code",
   "execution_count": 514,
   "outputs": [
    {
     "data": {
      "text/plain": "    PassengerId  Survived  Pclass  \\\n1           2.0       1.0     1.0   \n3           4.0       1.0     1.0   \n6           7.0       0.0     1.0   \n11         12.0       1.0     1.0   \n21         22.0       1.0     2.0   \n\n                                                 Name  Sex   Age  SibSp  \\\n1   Cumings, Mrs. John Bradley (Florence Briggs Th...    0  38.0    1.0   \n3        Futrelle, Mrs. Jacques Heath (Lily May Peel)    0  35.0    1.0   \n6                             McCarthy, Mr. Timothy J    1  54.0    0.0   \n11                           Bonnell, Miss. Elizabeth    0  58.0    0.0   \n21                              Beesley, Mr. Lawrence    1  34.0    0.0   \n\n    Parch    Ticket     Fare Cabin Embarked  \n1     0.0  PC 17599  71.2833   C85        C  \n3     0.0    113803  53.1000  C123        S  \n6     0.0     17463  51.8625   E46        S  \n11    0.0    113783  26.5500  C103        S  \n21    0.0    248698  13.0000   D56        S  ",
      "text/html": "<div>\n<style scoped>\n    .dataframe tbody tr th:only-of-type {\n        vertical-align: middle;\n    }\n\n    .dataframe tbody tr th {\n        vertical-align: top;\n    }\n\n    .dataframe thead th {\n        text-align: right;\n    }\n</style>\n<table border=\"1\" class=\"dataframe\">\n  <thead>\n    <tr style=\"text-align: right;\">\n      <th></th>\n      <th>PassengerId</th>\n      <th>Survived</th>\n      <th>Pclass</th>\n      <th>Name</th>\n      <th>Sex</th>\n      <th>Age</th>\n      <th>SibSp</th>\n      <th>Parch</th>\n      <th>Ticket</th>\n      <th>Fare</th>\n      <th>Cabin</th>\n      <th>Embarked</th>\n    </tr>\n  </thead>\n  <tbody>\n    <tr>\n      <th>1</th>\n      <td>2.0</td>\n      <td>1.0</td>\n      <td>1.0</td>\n      <td>Cumings, Mrs. John Bradley (Florence Briggs Th...</td>\n      <td>0</td>\n      <td>38.0</td>\n      <td>1.0</td>\n      <td>0.0</td>\n      <td>PC 17599</td>\n      <td>71.2833</td>\n      <td>C85</td>\n      <td>C</td>\n    </tr>\n    <tr>\n      <th>3</th>\n      <td>4.0</td>\n      <td>1.0</td>\n      <td>1.0</td>\n      <td>Futrelle, Mrs. Jacques Heath (Lily May Peel)</td>\n      <td>0</td>\n      <td>35.0</td>\n      <td>1.0</td>\n      <td>0.0</td>\n      <td>113803</td>\n      <td>53.1000</td>\n      <td>C123</td>\n      <td>S</td>\n    </tr>\n    <tr>\n      <th>6</th>\n      <td>7.0</td>\n      <td>0.0</td>\n      <td>1.0</td>\n      <td>McCarthy, Mr. Timothy J</td>\n      <td>1</td>\n      <td>54.0</td>\n      <td>0.0</td>\n      <td>0.0</td>\n      <td>17463</td>\n      <td>51.8625</td>\n      <td>E46</td>\n      <td>S</td>\n    </tr>\n    <tr>\n      <th>11</th>\n      <td>12.0</td>\n      <td>1.0</td>\n      <td>1.0</td>\n      <td>Bonnell, Miss. Elizabeth</td>\n      <td>0</td>\n      <td>58.0</td>\n      <td>0.0</td>\n      <td>0.0</td>\n      <td>113783</td>\n      <td>26.5500</td>\n      <td>C103</td>\n      <td>S</td>\n    </tr>\n    <tr>\n      <th>21</th>\n      <td>22.0</td>\n      <td>1.0</td>\n      <td>2.0</td>\n      <td>Beesley, Mr. Lawrence</td>\n      <td>1</td>\n      <td>34.0</td>\n      <td>0.0</td>\n      <td>0.0</td>\n      <td>248698</td>\n      <td>13.0000</td>\n      <td>D56</td>\n      <td>S</td>\n    </tr>\n  </tbody>\n</table>\n</div>"
     },
     "execution_count": 514,
     "metadata": {},
     "output_type": "execute_result"
    }
   ],
   "source": [
    "titanic_data_1 = pd.get_dummies(data=titanic_data, columns=titanic_data.select_dtypes(include=np.object).columns, drop_first=True)\n",
    "titanic_data_1.head()\n",
    "\n",
    "titanic_data_2 = titanic_data\n",
    "titanic_data_2[\"Sex\"] = titanic_data_2[\"Sex\"].factorize()[0]\n",
    "titanic_data_2.head()"
   ],
   "metadata": {
    "collapsed": false,
    "pycharm": {
     "name": "#%%\n"
    }
   }
  },
  {
   "cell_type": "markdown",
   "source": [
    "### 11. Нормалізувати або стандартизувати кількісні ознаки."
   ],
   "metadata": {
    "collapsed": false
   }
  },
  {
   "cell_type": "code",
   "execution_count": 515,
   "outputs": [
    {
     "data": {
      "text/plain": "    PassengerId  Survived   Pclass  \\\n1     -0.514646  0.317365 -0.08982   \n3     -0.512394  0.317365 -0.08982   \n6     -0.509016 -0.682635 -0.08982   \n11    -0.503385  0.317365 -0.08982   \n21    -0.492124  0.317365  0.91018   \n\n                                                 Name  Sex       Age  \\\n1   Cumings, Mrs. John Bradley (Florence Briggs Th...    0  0.017308   \n3        Futrelle, Mrs. Jacques Heath (Lily May Peel)    0 -0.020628   \n6                             McCarthy, Mr. Timothy J    1  0.219635   \n11                           Bonnell, Miss. Elizabeth    0  0.270217   \n21                              Beesley, Mr. Lawrence    1 -0.033273   \n\n       SibSp     Parch    Ticket      Fare Cabin Embarked  \n1   0.281437 -0.206587  PC 17599 -0.007021   C85        C  \n3   0.281437 -0.206587    113803 -0.076324  C123        S  \n6  -0.218563 -0.206587     17463 -0.081040   E46        S  \n11 -0.218563 -0.206587    113783 -0.177515  C103        S  \n21 -0.218563 -0.206587    248698 -0.229159   D56        S  ",
      "text/html": "<div>\n<style scoped>\n    .dataframe tbody tr th:only-of-type {\n        vertical-align: middle;\n    }\n\n    .dataframe tbody tr th {\n        vertical-align: top;\n    }\n\n    .dataframe thead th {\n        text-align: right;\n    }\n</style>\n<table border=\"1\" class=\"dataframe\">\n  <thead>\n    <tr style=\"text-align: right;\">\n      <th></th>\n      <th>PassengerId</th>\n      <th>Survived</th>\n      <th>Pclass</th>\n      <th>Name</th>\n      <th>Sex</th>\n      <th>Age</th>\n      <th>SibSp</th>\n      <th>Parch</th>\n      <th>Ticket</th>\n      <th>Fare</th>\n      <th>Cabin</th>\n      <th>Embarked</th>\n    </tr>\n  </thead>\n  <tbody>\n    <tr>\n      <th>1</th>\n      <td>-0.514646</td>\n      <td>0.317365</td>\n      <td>-0.08982</td>\n      <td>Cumings, Mrs. John Bradley (Florence Briggs Th...</td>\n      <td>0</td>\n      <td>0.017308</td>\n      <td>0.281437</td>\n      <td>-0.206587</td>\n      <td>PC 17599</td>\n      <td>-0.007021</td>\n      <td>C85</td>\n      <td>C</td>\n    </tr>\n    <tr>\n      <th>3</th>\n      <td>-0.512394</td>\n      <td>0.317365</td>\n      <td>-0.08982</td>\n      <td>Futrelle, Mrs. Jacques Heath (Lily May Peel)</td>\n      <td>0</td>\n      <td>-0.020628</td>\n      <td>0.281437</td>\n      <td>-0.206587</td>\n      <td>113803</td>\n      <td>-0.076324</td>\n      <td>C123</td>\n      <td>S</td>\n    </tr>\n    <tr>\n      <th>6</th>\n      <td>-0.509016</td>\n      <td>-0.682635</td>\n      <td>-0.08982</td>\n      <td>McCarthy, Mr. Timothy J</td>\n      <td>1</td>\n      <td>0.219635</td>\n      <td>-0.218563</td>\n      <td>-0.206587</td>\n      <td>17463</td>\n      <td>-0.081040</td>\n      <td>E46</td>\n      <td>S</td>\n    </tr>\n    <tr>\n      <th>11</th>\n      <td>-0.503385</td>\n      <td>0.317365</td>\n      <td>-0.08982</td>\n      <td>Bonnell, Miss. Elizabeth</td>\n      <td>0</td>\n      <td>0.270217</td>\n      <td>-0.218563</td>\n      <td>-0.206587</td>\n      <td>113783</td>\n      <td>-0.177515</td>\n      <td>C103</td>\n      <td>S</td>\n    </tr>\n    <tr>\n      <th>21</th>\n      <td>-0.492124</td>\n      <td>0.317365</td>\n      <td>0.91018</td>\n      <td>Beesley, Mr. Lawrence</td>\n      <td>1</td>\n      <td>-0.033273</td>\n      <td>-0.218563</td>\n      <td>-0.206587</td>\n      <td>248698</td>\n      <td>-0.229159</td>\n      <td>D56</td>\n      <td>S</td>\n    </tr>\n  </tbody>\n</table>\n</div>"
     },
     "execution_count": 515,
     "metadata": {},
     "output_type": "execute_result"
    }
   ],
   "source": [
    "titanic_data_num_norm = (titanic_data_num - titanic_data_num.mean()) / (titanic_data_num.max() - titanic_data_num.min())\n",
    "titanic_data[titanic_data_num_norm.columns] = titanic_data_num_norm\n",
    "titanic_data.head()"
   ],
   "metadata": {
    "collapsed": false,
    "pycharm": {
     "name": "#%%\n"
    }
   }
  },
  {
   "cell_type": "markdown",
   "source": [
    "### 12. Вилучити  з  набору  даних  ознаки,  які  однозначно  не  можуть  бути  корисні  в подальшому (наприклад, id, ознаки з одного унікального значення або що містять більше 50% пропущених значень)."
   ],
   "metadata": {
    "collapsed": false,
    "pycharm": {
     "name": "#%% md\n"
    }
   }
  },
  {
   "cell_type": "code",
   "execution_count": 516,
   "outputs": [
    {
     "data": {
      "text/plain": "    Survived   Pclass                                               Name  Sex  \\\n1   0.317365 -0.08982  Cumings, Mrs. John Bradley (Florence Briggs Th...    0   \n3   0.317365 -0.08982       Futrelle, Mrs. Jacques Heath (Lily May Peel)    0   \n6  -0.682635 -0.08982                            McCarthy, Mr. Timothy J    1   \n11  0.317365 -0.08982                           Bonnell, Miss. Elizabeth    0   \n21  0.317365  0.91018                              Beesley, Mr. Lawrence    1   \n\n         Age     SibSp     Parch    Ticket      Fare Cabin Embarked  \n1   0.017308  0.281437 -0.206587  PC 17599 -0.007021   C85        C  \n3  -0.020628  0.281437 -0.206587    113803 -0.076324  C123        S  \n6   0.219635 -0.218563 -0.206587     17463 -0.081040   E46        S  \n11  0.270217 -0.218563 -0.206587    113783 -0.177515  C103        S  \n21 -0.033273 -0.218563 -0.206587    248698 -0.229159   D56        S  ",
      "text/html": "<div>\n<style scoped>\n    .dataframe tbody tr th:only-of-type {\n        vertical-align: middle;\n    }\n\n    .dataframe tbody tr th {\n        vertical-align: top;\n    }\n\n    .dataframe thead th {\n        text-align: right;\n    }\n</style>\n<table border=\"1\" class=\"dataframe\">\n  <thead>\n    <tr style=\"text-align: right;\">\n      <th></th>\n      <th>Survived</th>\n      <th>Pclass</th>\n      <th>Name</th>\n      <th>Sex</th>\n      <th>Age</th>\n      <th>SibSp</th>\n      <th>Parch</th>\n      <th>Ticket</th>\n      <th>Fare</th>\n      <th>Cabin</th>\n      <th>Embarked</th>\n    </tr>\n  </thead>\n  <tbody>\n    <tr>\n      <th>1</th>\n      <td>0.317365</td>\n      <td>-0.08982</td>\n      <td>Cumings, Mrs. John Bradley (Florence Briggs Th...</td>\n      <td>0</td>\n      <td>0.017308</td>\n      <td>0.281437</td>\n      <td>-0.206587</td>\n      <td>PC 17599</td>\n      <td>-0.007021</td>\n      <td>C85</td>\n      <td>C</td>\n    </tr>\n    <tr>\n      <th>3</th>\n      <td>0.317365</td>\n      <td>-0.08982</td>\n      <td>Futrelle, Mrs. Jacques Heath (Lily May Peel)</td>\n      <td>0</td>\n      <td>-0.020628</td>\n      <td>0.281437</td>\n      <td>-0.206587</td>\n      <td>113803</td>\n      <td>-0.076324</td>\n      <td>C123</td>\n      <td>S</td>\n    </tr>\n    <tr>\n      <th>6</th>\n      <td>-0.682635</td>\n      <td>-0.08982</td>\n      <td>McCarthy, Mr. Timothy J</td>\n      <td>1</td>\n      <td>0.219635</td>\n      <td>-0.218563</td>\n      <td>-0.206587</td>\n      <td>17463</td>\n      <td>-0.081040</td>\n      <td>E46</td>\n      <td>S</td>\n    </tr>\n    <tr>\n      <th>11</th>\n      <td>0.317365</td>\n      <td>-0.08982</td>\n      <td>Bonnell, Miss. Elizabeth</td>\n      <td>0</td>\n      <td>0.270217</td>\n      <td>-0.218563</td>\n      <td>-0.206587</td>\n      <td>113783</td>\n      <td>-0.177515</td>\n      <td>C103</td>\n      <td>S</td>\n    </tr>\n    <tr>\n      <th>21</th>\n      <td>0.317365</td>\n      <td>0.91018</td>\n      <td>Beesley, Mr. Lawrence</td>\n      <td>1</td>\n      <td>-0.033273</td>\n      <td>-0.218563</td>\n      <td>-0.206587</td>\n      <td>248698</td>\n      <td>-0.229159</td>\n      <td>D56</td>\n      <td>S</td>\n    </tr>\n  </tbody>\n</table>\n</div>"
     },
     "execution_count": 516,
     "metadata": {},
     "output_type": "execute_result"
    }
   ],
   "source": [
    "titanic_data.drop('PassengerId', axis=1, inplace=True)\n",
    "titanic_data.head()"
   ],
   "metadata": {
    "collapsed": false,
    "pycharm": {
     "name": "#%%\n"
    }
   }
  }
 ],
 "metadata": {
  "kernelspec": {
   "display_name": "Python 3",
   "language": "python",
   "name": "python3"
  },
  "language_info": {
   "codemirror_mode": {
    "name": "ipython",
    "version": 2
   },
   "file_extension": ".py",
   "mimetype": "text/x-python",
   "name": "python",
   "nbconvert_exporter": "python",
   "pygments_lexer": "ipython2",
   "version": "2.7.6"
  }
 },
 "nbformat": 4,
 "nbformat_minor": 0
}