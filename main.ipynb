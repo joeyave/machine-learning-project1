{
  "nbformat": 4,
  "nbformat_minor": 0,
  "metadata": {
    "kernelspec": {
      "display_name": "Python 3",
      "language": "python",
      "name": "python3"
    },
    "language_info": {
      "codemirror_mode": {
        "name": "ipython",
        "version": 2
      },
      "file_extension": ".py",
      "mimetype": "text/x-python",
      "name": "python",
      "nbconvert_exporter": "python",
      "pygments_lexer": "ipython2",
      "version": "2.7.6"
    },
    "colab": {
      "name": "machine-learning-project1.ipynb",
      "provenance": [],
      "collapsed_sections": [],
      "include_colab_link": true
    }
  },
  "cells": [
    {
      "cell_type": "markdown",
      "metadata": {
        "id": "view-in-github",
        "colab_type": "text"
      },
      "source": [
        "<a href=\"https://colab.research.google.com/github/joeyave/machine-learning-project1/blob/master/main.ipynb\" target=\"_parent\"><img src=\"https://colab.research.google.com/assets/colab-badge.svg\" alt=\"Open In Colab\"/></a>"
      ]
    },
    {
      "cell_type": "markdown",
      "metadata": {
        "collapsed": false,
        "pycharm": {
          "name": "#%% md\n"
        },
        "id": "V3hgzIofeCcz"
      },
      "source": [
        "# Машинне навчання\n",
        "## Лабораторна робота №1. Авельцев Йосип\n",
        "### 1. Визначити типи ознак та їх допустимі значення, ознайомившись з описанням набору даних."
      ]
    },
    {
      "cell_type": "markdown",
      "metadata": {
        "collapsed": false,
        "pycharm": {
          "name": "#%% md\n"
        },
        "id": "zSWDO9wseCc0"
      },
      "source": [
        "### 2. Завантажити набір даних у DataFrame і вивести на екран перші декілька рядків."
      ]
    },
    {
      "cell_type": "code",
      "metadata": {
        "id": "8MYIjLXTMGHY",
        "outputId": "2d1fbb46-8d7f-4e64-c9b7-cad290c5956a",
        "colab": {
          "base_uri": "https://localhost:8080/"
        }
      },
      "source": [
        "from google.colab import drive\n",
        "drive.mount('/content/drive')"
      ],
      "execution_count": 4,
      "outputs": [
        {
          "output_type": "stream",
          "text": [
            "Drive already mounted at /content/drive; to attempt to forcibly remount, call drive.mount(\"/content/drive\", force_remount=True).\n"
          ],
          "name": "stdout"
        }
      ]
    },
    {
      "cell_type": "code",
      "metadata": {
        "pycharm": {
          "name": "#%%\n"
        },
        "id": "u5MG6IhDeCc1",
        "outputId": "b1f7300e-87be-4e86-e90a-fd6dc56e284d",
        "colab": {
          "base_uri": "https://localhost:8080/",
          "height": 198
        }
      },
      "source": [
        "import pandas as pd\n",
        "\n",
        "titanic_file_path = '/content/drive/My Drive/Colab Notebooks/train.csv'\n",
        "titanic_data = pd.read_csv(titanic_file_path)\n",
        "\n",
        "titanic_data.head()"
      ],
      "execution_count": 57,
      "outputs": [
        {
          "output_type": "execute_result",
          "data": {
            "text/html": [
              "<div>\n",
              "<style scoped>\n",
              "    .dataframe tbody tr th:only-of-type {\n",
              "        vertical-align: middle;\n",
              "    }\n",
              "\n",
              "    .dataframe tbody tr th {\n",
              "        vertical-align: top;\n",
              "    }\n",
              "\n",
              "    .dataframe thead th {\n",
              "        text-align: right;\n",
              "    }\n",
              "</style>\n",
              "<table border=\"1\" class=\"dataframe\">\n",
              "  <thead>\n",
              "    <tr style=\"text-align: right;\">\n",
              "      <th></th>\n",
              "      <th>PassengerId</th>\n",
              "      <th>Survived</th>\n",
              "      <th>Pclass</th>\n",
              "      <th>Name</th>\n",
              "      <th>Sex</th>\n",
              "      <th>Age</th>\n",
              "      <th>SibSp</th>\n",
              "      <th>Parch</th>\n",
              "      <th>Ticket</th>\n",
              "      <th>Fare</th>\n",
              "      <th>Cabin</th>\n",
              "      <th>Embarked</th>\n",
              "    </tr>\n",
              "  </thead>\n",
              "  <tbody>\n",
              "    <tr>\n",
              "      <th>0</th>\n",
              "      <td>1</td>\n",
              "      <td>0</td>\n",
              "      <td>3</td>\n",
              "      <td>Braund, Mr. Owen Harris</td>\n",
              "      <td>male</td>\n",
              "      <td>22.0</td>\n",
              "      <td>1</td>\n",
              "      <td>0</td>\n",
              "      <td>A/5 21171</td>\n",
              "      <td>7.2500</td>\n",
              "      <td>NaN</td>\n",
              "      <td>S</td>\n",
              "    </tr>\n",
              "    <tr>\n",
              "      <th>1</th>\n",
              "      <td>2</td>\n",
              "      <td>1</td>\n",
              "      <td>1</td>\n",
              "      <td>Cumings, Mrs. John Bradley (Florence Briggs Th...</td>\n",
              "      <td>female</td>\n",
              "      <td>38.0</td>\n",
              "      <td>1</td>\n",
              "      <td>0</td>\n",
              "      <td>PC 17599</td>\n",
              "      <td>71.2833</td>\n",
              "      <td>C85</td>\n",
              "      <td>C</td>\n",
              "    </tr>\n",
              "    <tr>\n",
              "      <th>2</th>\n",
              "      <td>3</td>\n",
              "      <td>1</td>\n",
              "      <td>3</td>\n",
              "      <td>Heikkinen, Miss. Laina</td>\n",
              "      <td>female</td>\n",
              "      <td>26.0</td>\n",
              "      <td>0</td>\n",
              "      <td>0</td>\n",
              "      <td>STON/O2. 3101282</td>\n",
              "      <td>7.9250</td>\n",
              "      <td>NaN</td>\n",
              "      <td>S</td>\n",
              "    </tr>\n",
              "    <tr>\n",
              "      <th>3</th>\n",
              "      <td>4</td>\n",
              "      <td>1</td>\n",
              "      <td>1</td>\n",
              "      <td>Futrelle, Mrs. Jacques Heath (Lily May Peel)</td>\n",
              "      <td>female</td>\n",
              "      <td>35.0</td>\n",
              "      <td>1</td>\n",
              "      <td>0</td>\n",
              "      <td>113803</td>\n",
              "      <td>53.1000</td>\n",
              "      <td>C123</td>\n",
              "      <td>S</td>\n",
              "    </tr>\n",
              "    <tr>\n",
              "      <th>4</th>\n",
              "      <td>5</td>\n",
              "      <td>0</td>\n",
              "      <td>3</td>\n",
              "      <td>Allen, Mr. William Henry</td>\n",
              "      <td>male</td>\n",
              "      <td>35.0</td>\n",
              "      <td>0</td>\n",
              "      <td>0</td>\n",
              "      <td>373450</td>\n",
              "      <td>8.0500</td>\n",
              "      <td>NaN</td>\n",
              "      <td>S</td>\n",
              "    </tr>\n",
              "  </tbody>\n",
              "</table>\n",
              "</div>"
            ],
            "text/plain": [
              "   PassengerId  Survived  Pclass  ...     Fare Cabin  Embarked\n",
              "0            1         0       3  ...   7.2500   NaN         S\n",
              "1            2         1       1  ...  71.2833   C85         C\n",
              "2            3         1       3  ...   7.9250   NaN         S\n",
              "3            4         1       1  ...  53.1000  C123         S\n",
              "4            5         0       3  ...   8.0500   NaN         S\n",
              "\n",
              "[5 rows x 12 columns]"
            ]
          },
          "metadata": {
            "tags": []
          },
          "execution_count": 57
        }
      ]
    },
    {
      "cell_type": "markdown",
      "metadata": {
        "collapsed": false,
        "pycharm": {
          "name": "#%% md\n"
        },
        "id": "7_3cnWKSeCc7"
      },
      "source": [
        "### 3. Програмно встановити назви стовпців DataFrame, якщо у файлі з набором даних\n",
        "вони не містяться. Назви стовпців є в описанні набору даних.\n",
        "\n",
        "Назви містяться."
      ]
    },
    {
      "cell_type": "markdown",
      "metadata": {
        "collapsed": false,
        "id": "RDIvaHNGeCc8"
      },
      "source": [
        "### 4. Вивести на екран кількість рядків та стовпців у DataFrame, типи стовпців DataFrame.\n"
      ]
    },
    {
      "cell_type": "code",
      "metadata": {
        "pycharm": {
          "name": "#%%\n"
        },
        "id": "HxCR8ZcweCc8",
        "outputId": "9ed21fec-91b7-4cd5-eb58-4d71c9083910",
        "colab": {
          "base_uri": "https://localhost:8080/"
        }
      },
      "source": [
        "titanic_data.info()"
      ],
      "execution_count": 17,
      "outputs": [
        {
          "output_type": "stream",
          "text": [
            "<class 'pandas.core.frame.DataFrame'>\n",
            "RangeIndex: 891 entries, 0 to 890\n",
            "Data columns (total 12 columns):\n",
            " #   Column       Non-Null Count  Dtype  \n",
            "---  ------       --------------  -----  \n",
            " 0   PassengerId  891 non-null    int64  \n",
            " 1   Survived     891 non-null    int64  \n",
            " 2   Pclass       891 non-null    int64  \n",
            " 3   Name         891 non-null    object \n",
            " 4   Sex          891 non-null    object \n",
            " 5   Age          714 non-null    float64\n",
            " 6   SibSp        891 non-null    int64  \n",
            " 7   Parch        891 non-null    int64  \n",
            " 8   Ticket       891 non-null    object \n",
            " 9   Fare         891 non-null    float64\n",
            " 10  Cabin        204 non-null    object \n",
            " 11  Embarked     889 non-null    object \n",
            "dtypes: float64(2), int64(5), object(5)\n",
            "memory usage: 83.7+ KB\n"
          ],
          "name": "stdout"
        }
      ]
    },
    {
      "cell_type": "markdown",
      "metadata": {
        "collapsed": false,
        "id": "PtvHWTm6eCc_"
      },
      "source": [
        "### 5. Вивести таблицю з основними характеристиками кожної ознаки \n",
        "(для кількісних ознак – мінімум, максимум, середнє, середньоквадратичне відхилення, 1-й, 2-й та 3-й квартилі; для якісних – кількість унікальних значень, модальне значення та його частота)."
      ]
    },
    {
      "cell_type": "markdown",
      "metadata": {
        "id": "RmwbB1D2OJJc"
      },
      "source": [
        "Кількісні:"
      ]
    },
    {
      "cell_type": "code",
      "metadata": {
        "pycharm": {
          "name": "#%%\n"
        },
        "id": "otrKAXffeCdA",
        "outputId": "bac128a2-173f-4a6a-c7bc-47fb172b5429",
        "colab": {
          "base_uri": "https://localhost:8080/",
          "height": 288
        }
      },
      "source": [
        "titanic_data.describe()"
      ],
      "execution_count": 18,
      "outputs": [
        {
          "output_type": "execute_result",
          "data": {
            "text/html": [
              "<div>\n",
              "<style scoped>\n",
              "    .dataframe tbody tr th:only-of-type {\n",
              "        vertical-align: middle;\n",
              "    }\n",
              "\n",
              "    .dataframe tbody tr th {\n",
              "        vertical-align: top;\n",
              "    }\n",
              "\n",
              "    .dataframe thead th {\n",
              "        text-align: right;\n",
              "    }\n",
              "</style>\n",
              "<table border=\"1\" class=\"dataframe\">\n",
              "  <thead>\n",
              "    <tr style=\"text-align: right;\">\n",
              "      <th></th>\n",
              "      <th>PassengerId</th>\n",
              "      <th>Survived</th>\n",
              "      <th>Pclass</th>\n",
              "      <th>Age</th>\n",
              "      <th>SibSp</th>\n",
              "      <th>Parch</th>\n",
              "      <th>Fare</th>\n",
              "    </tr>\n",
              "  </thead>\n",
              "  <tbody>\n",
              "    <tr>\n",
              "      <th>count</th>\n",
              "      <td>891.000000</td>\n",
              "      <td>891.000000</td>\n",
              "      <td>891.000000</td>\n",
              "      <td>714.000000</td>\n",
              "      <td>891.000000</td>\n",
              "      <td>891.000000</td>\n",
              "      <td>891.000000</td>\n",
              "    </tr>\n",
              "    <tr>\n",
              "      <th>mean</th>\n",
              "      <td>446.000000</td>\n",
              "      <td>0.383838</td>\n",
              "      <td>2.308642</td>\n",
              "      <td>29.699118</td>\n",
              "      <td>0.523008</td>\n",
              "      <td>0.381594</td>\n",
              "      <td>32.204208</td>\n",
              "    </tr>\n",
              "    <tr>\n",
              "      <th>std</th>\n",
              "      <td>257.353842</td>\n",
              "      <td>0.486592</td>\n",
              "      <td>0.836071</td>\n",
              "      <td>14.526497</td>\n",
              "      <td>1.102743</td>\n",
              "      <td>0.806057</td>\n",
              "      <td>49.693429</td>\n",
              "    </tr>\n",
              "    <tr>\n",
              "      <th>min</th>\n",
              "      <td>1.000000</td>\n",
              "      <td>0.000000</td>\n",
              "      <td>1.000000</td>\n",
              "      <td>0.420000</td>\n",
              "      <td>0.000000</td>\n",
              "      <td>0.000000</td>\n",
              "      <td>0.000000</td>\n",
              "    </tr>\n",
              "    <tr>\n",
              "      <th>25%</th>\n",
              "      <td>223.500000</td>\n",
              "      <td>0.000000</td>\n",
              "      <td>2.000000</td>\n",
              "      <td>20.125000</td>\n",
              "      <td>0.000000</td>\n",
              "      <td>0.000000</td>\n",
              "      <td>7.910400</td>\n",
              "    </tr>\n",
              "    <tr>\n",
              "      <th>50%</th>\n",
              "      <td>446.000000</td>\n",
              "      <td>0.000000</td>\n",
              "      <td>3.000000</td>\n",
              "      <td>28.000000</td>\n",
              "      <td>0.000000</td>\n",
              "      <td>0.000000</td>\n",
              "      <td>14.454200</td>\n",
              "    </tr>\n",
              "    <tr>\n",
              "      <th>75%</th>\n",
              "      <td>668.500000</td>\n",
              "      <td>1.000000</td>\n",
              "      <td>3.000000</td>\n",
              "      <td>38.000000</td>\n",
              "      <td>1.000000</td>\n",
              "      <td>0.000000</td>\n",
              "      <td>31.000000</td>\n",
              "    </tr>\n",
              "    <tr>\n",
              "      <th>max</th>\n",
              "      <td>891.000000</td>\n",
              "      <td>1.000000</td>\n",
              "      <td>3.000000</td>\n",
              "      <td>80.000000</td>\n",
              "      <td>8.000000</td>\n",
              "      <td>6.000000</td>\n",
              "      <td>512.329200</td>\n",
              "    </tr>\n",
              "  </tbody>\n",
              "</table>\n",
              "</div>"
            ],
            "text/plain": [
              "       PassengerId    Survived      Pclass  ...       SibSp       Parch        Fare\n",
              "count   891.000000  891.000000  891.000000  ...  891.000000  891.000000  891.000000\n",
              "mean    446.000000    0.383838    2.308642  ...    0.523008    0.381594   32.204208\n",
              "std     257.353842    0.486592    0.836071  ...    1.102743    0.806057   49.693429\n",
              "min       1.000000    0.000000    1.000000  ...    0.000000    0.000000    0.000000\n",
              "25%     223.500000    0.000000    2.000000  ...    0.000000    0.000000    7.910400\n",
              "50%     446.000000    0.000000    3.000000  ...    0.000000    0.000000   14.454200\n",
              "75%     668.500000    1.000000    3.000000  ...    1.000000    0.000000   31.000000\n",
              "max     891.000000    1.000000    3.000000  ...    8.000000    6.000000  512.329200\n",
              "\n",
              "[8 rows x 7 columns]"
            ]
          },
          "metadata": {
            "tags": []
          },
          "execution_count": 18
        }
      ]
    },
    {
      "cell_type": "markdown",
      "metadata": {
        "collapsed": false,
        "id": "oTGXvyW7eCdD"
      },
      "source": [
        "Якісні:"
      ]
    },
    {
      "cell_type": "code",
      "metadata": {
        "pycharm": {
          "name": "#%%\n"
        },
        "id": "dqAAQGV8eCdE",
        "outputId": "327d592b-7b2f-43c3-fc04-27911791eade",
        "colab": {
          "base_uri": "https://localhost:8080/",
          "height": 168
        }
      },
      "source": [
        "titanic_data.describe(include=['O'])"
      ],
      "execution_count": 19,
      "outputs": [
        {
          "output_type": "execute_result",
          "data": {
            "text/html": [
              "<div>\n",
              "<style scoped>\n",
              "    .dataframe tbody tr th:only-of-type {\n",
              "        vertical-align: middle;\n",
              "    }\n",
              "\n",
              "    .dataframe tbody tr th {\n",
              "        vertical-align: top;\n",
              "    }\n",
              "\n",
              "    .dataframe thead th {\n",
              "        text-align: right;\n",
              "    }\n",
              "</style>\n",
              "<table border=\"1\" class=\"dataframe\">\n",
              "  <thead>\n",
              "    <tr style=\"text-align: right;\">\n",
              "      <th></th>\n",
              "      <th>Name</th>\n",
              "      <th>Sex</th>\n",
              "      <th>Ticket</th>\n",
              "      <th>Cabin</th>\n",
              "      <th>Embarked</th>\n",
              "    </tr>\n",
              "  </thead>\n",
              "  <tbody>\n",
              "    <tr>\n",
              "      <th>count</th>\n",
              "      <td>891</td>\n",
              "      <td>891</td>\n",
              "      <td>891</td>\n",
              "      <td>204</td>\n",
              "      <td>889</td>\n",
              "    </tr>\n",
              "    <tr>\n",
              "      <th>unique</th>\n",
              "      <td>891</td>\n",
              "      <td>2</td>\n",
              "      <td>681</td>\n",
              "      <td>147</td>\n",
              "      <td>3</td>\n",
              "    </tr>\n",
              "    <tr>\n",
              "      <th>top</th>\n",
              "      <td>Sawyer, Mr. Frederick Charles</td>\n",
              "      <td>male</td>\n",
              "      <td>CA. 2343</td>\n",
              "      <td>G6</td>\n",
              "      <td>S</td>\n",
              "    </tr>\n",
              "    <tr>\n",
              "      <th>freq</th>\n",
              "      <td>1</td>\n",
              "      <td>577</td>\n",
              "      <td>7</td>\n",
              "      <td>4</td>\n",
              "      <td>644</td>\n",
              "    </tr>\n",
              "  </tbody>\n",
              "</table>\n",
              "</div>"
            ],
            "text/plain": [
              "                                 Name   Sex    Ticket Cabin Embarked\n",
              "count                             891   891       891   204      889\n",
              "unique                            891     2       681   147        3\n",
              "top     Sawyer, Mr. Frederick Charles  male  CA. 2343    G6        S\n",
              "freq                                1   577         7     4      644"
            ]
          },
          "metadata": {
            "tags": []
          },
          "execution_count": 19
        }
      ]
    },
    {
      "cell_type": "markdown",
      "metadata": {
        "collapsed": false,
        "id": "P1s6pYF8eCdI"
      },
      "source": [
        "### 6. Перевірити наявність пропусків в наборі даних, вивести на екран кількість пропущених значень у кожному стовпці."
      ]
    },
    {
      "cell_type": "code",
      "metadata": {
        "pycharm": {
          "name": "#%%\n"
        },
        "id": "F_FmjWqreCdJ",
        "outputId": "a2723582-01d3-479a-978e-52f458907ad0",
        "colab": {
          "base_uri": "https://localhost:8080/"
        }
      },
      "source": [
        "titanic_data.isnull().sum()"
      ],
      "execution_count": 33,
      "outputs": [
        {
          "output_type": "execute_result",
          "data": {
            "text/plain": [
              "PassengerId      0\n",
              "Survived         0\n",
              "Pclass           0\n",
              "Name             0\n",
              "Sex              0\n",
              "Age            177\n",
              "SibSp            0\n",
              "Parch            0\n",
              "Ticket           0\n",
              "Fare             0\n",
              "Cabin          687\n",
              "Embarked         2\n",
              "dtype: int64"
            ]
          },
          "metadata": {
            "tags": []
          },
          "execution_count": 33
        }
      ]
    },
    {
      "cell_type": "markdown",
      "metadata": {
        "collapsed": false,
        "id": "MXLid9XweCdM"
      },
      "source": [
        "### 8. Якщо  у  наборі  даних  є  пропуски,  видалити  або  заповнити  їх.  \n",
        "Потрібно  вміти видаляти усі та лише частину рядків/стовпців з пропусками, а також заповнювати пропуски середнім значенням/медіаною/модою по усій вибірці та по даним лише відповідного класу."
      ]
    },
    {
      "cell_type": "code",
      "metadata": {
        "pycharm": {
          "name": "#%%\n"
        },
        "id": "-yiezkfYeCdN",
        "outputId": "b4090b9b-2180-46ad-934d-65b97dd48e30",
        "colab": {
          "base_uri": "https://localhost:8080/"
        }
      },
      "source": [
        "# Fill missing values in Age column with Age's mean.\n",
        "titanic_data['Age'].fillna(value=titanic_data['Age'].mean(), inplace=True)\n",
        "\n",
        "# Drop rows with missing values in Embarked column.\n",
        "titanic_data.dropna(subset=['Embarked'], inplace=True)\n",
        "\n",
        "# Drop columns where there are more than 70% missing values.\n",
        "titanic_data.dropna(axis='columns', thresh=len(titanic_data) * 0.3, inplace=True)\n",
        "titanic_data.isnull().sum()"
      ],
      "execution_count": 58,
      "outputs": [
        {
          "output_type": "execute_result",
          "data": {
            "text/plain": [
              "PassengerId    0\n",
              "Survived       0\n",
              "Pclass         0\n",
              "Name           0\n",
              "Sex            0\n",
              "Age            0\n",
              "SibSp          0\n",
              "Parch          0\n",
              "Ticket         0\n",
              "Fare           0\n",
              "Embarked       0\n",
              "dtype: int64"
            ]
          },
          "metadata": {
            "tags": []
          },
          "execution_count": 58
        }
      ]
    },
    {
      "cell_type": "markdown",
      "metadata": {
        "collapsed": false,
        "id": "jB6ZTjIdeCdR"
      },
      "source": [
        "### 7. Перевірити  наявність  аномальних  значень  в  наборі  даних.  Для  кожного  стовпця вивести перелік знайдених аномальних значень. Якщо аномалії знайдено, вилучити їх або помітити як пропущені.\n",
        "\n",
        "    https://towardsdatascience.com/ways-to-detect-and-remove-the-outliers-404d16608dba"
      ]
    },
    {
      "cell_type": "code",
      "metadata": {
        "pycharm": {
          "name": "#%%\n"
        },
        "id": "mwRAo-5ReCdU",
        "outputId": "da84e159-6241-4ea2-a1a8-9b5ffdd093ca",
        "colab": {
          "base_uri": "https://localhost:8080/"
        }
      },
      "source": [
        "from scipy import stats\n",
        "import numpy as np\n",
        "from pprint import pprint\n",
        "\n",
        "titanic_data_num = titanic_data.select_dtypes(include=[np.number])\n",
        "\n",
        "z = np.abs(stats.zscore(titanic_data_num))\n",
        "\n",
        "(arr1, arr2) = np.where(z > 3)\n",
        "\n",
        "outliers = {}\n",
        "for row, col in zip(arr1, arr2):\n",
        "    if titanic_data_num.columns[col] not in outliers:\n",
        "        outliers[titanic_data_num.columns[col]] = [titanic_data_num.loc[row][col]]\n",
        "    else:\n",
        "        outliers[titanic_data_num.columns[col]].append(titanic_data_num.loc[row][col])\n",
        "pprint(outliers)\n",
        "\n",
        "titanic_data_num = titanic_data_num[(z < 3).all(axis=1)]\n",
        "\n",
        "print(titanic_data.shape)\n",
        "titanic_data[titanic_data_num.columns] = titanic_data_num\n",
        "titanic_data = titanic_data.dropna()\n",
        "print(titanic_data.shape)"
      ],
      "execution_count": 59,
      "outputs": [
        {
          "output_type": "stream",
          "text": [
            "{'Age': [29.69911764705882,\n",
            "         21.0,\n",
            "         55.0,\n",
            "         29.69911764705882,\n",
            "         31.0,\n",
            "         31.0,\n",
            "         29.69911764705882],\n",
            " 'Fare': [263.0,\n",
            "          8.05,\n",
            "          21.0,\n",
            "          86.5,\n",
            "          30.5,\n",
            "          83.1583,\n",
            "          26.0,\n",
            "          7.25,\n",
            "          7.775,\n",
            "          18.75,\n",
            "          10.5,\n",
            "          39.6,\n",
            "          46.9,\n",
            "          7.7958,\n",
            "          7.65,\n",
            "          7.65,\n",
            "          7.925,\n",
            "          34.375,\n",
            "          78.85,\n",
            "          7.7375],\n",
            " 'Parch': [5.0,\n",
            "           5.0,\n",
            "           0.0,\n",
            "           1.0,\n",
            "           0.0,\n",
            "           2.0,\n",
            "           3.0,\n",
            "           0.0,\n",
            "           0.0,\n",
            "           1.0,\n",
            "           0.0,\n",
            "           0.0,\n",
            "           0.0,\n",
            "           1.0,\n",
            "           0.0],\n",
            " 'SibSp': [4.0,\n",
            "           4.0,\n",
            "           5.0,\n",
            "           0.0,\n",
            "           0.0,\n",
            "           0.0,\n",
            "           0.0,\n",
            "           0.0,\n",
            "           0.0,\n",
            "           0.0,\n",
            "           0.0,\n",
            "           0.0,\n",
            "           0.0,\n",
            "           0.0,\n",
            "           0.0,\n",
            "           0.0,\n",
            "           1.0,\n",
            "           0.0,\n",
            "           0.0,\n",
            "           0.0,\n",
            "           4.0,\n",
            "           0.0,\n",
            "           1.0,\n",
            "           0.0,\n",
            "           0.0,\n",
            "           0.0,\n",
            "           0.0,\n",
            "           0.0,\n",
            "           0.0,\n",
            "           1.0]}\n",
            "(889, 11)\n",
            "(818, 11)\n"
          ],
          "name": "stdout"
        }
      ]
    },
    {
      "cell_type": "markdown",
      "metadata": {
        "collapsed": false,
        "id": "B4a4qvVFeCdY"
      },
      "source": [
        "### 9. Перевірити, чи збалансовані класи. Для цього побудувати стовпчасту або кругову діаграму, що відображає долю об’єктів кожного класу в наборі даних.\n"
      ]
    },
    {
      "cell_type": "code",
      "metadata": {
        "pycharm": {
          "name": "#%%\n"
        },
        "id": "DVHAJomReCdZ",
        "outputId": "71bef3fe-c41b-475b-d275-6cfc88cda96f"
      },
      "source": [
        "s = titanic_data[\"Survived\"].value_counts() / len(titanic_data) * 100\n",
        "plt.pie(s.values, labels=s.index, autopct='%.1f%%')"
      ],
      "execution_count": null,
      "outputs": [
        {
          "output_type": "execute_result",
          "data": {
            "text/plain": [
              "([<matplotlib.patches.Wedge at 0x7f2b2766fed0>,\n",
              "  <matplotlib.patches.Wedge at 0x7f2b25b470d0>],\n",
              " [Text(-0.5400934322180124, 0.9582792309525274, '1'),\n",
              "  Text(0.5400934322180128, -0.9582792309525272, '0')],\n",
              " [Text(-0.2945964175734613, 0.5226977623377421, '66.3%'),\n",
              "  Text(0.2945964175734615, -0.5226977623377421, '33.7%')])"
            ]
          },
          "metadata": {
            "tags": []
          },
          "execution_count": 713
        },
        {
          "output_type": "display_data",
          "data": {
            "text/plain": [
              "<Figure size 432x288 with 1 Axes>"
            ],
            "image/png": "[encoded data removed]"
          },
          "metadata": {
            "tags": []
          }
        }
      ]
    },
    {
      "cell_type": "markdown",
      "metadata": {
        "collapsed": false,
        "id": "cF9RW0-9eCdc"
      },
      "source": [
        "### 10. Виконати перетворення якісних ознак. Необхідно опанувати два типи перетворень: перетворення  кожної  якісної  ознаки  в  набір  бінарних ознак  (даммі  змінних)  та перекодування значень ознаки в числа."
      ]
    },
    {
      "cell_type": "code",
      "metadata": {
        "pycharm": {
          "name": "#%%\n"
        },
        "id": "_r7cXyJPeCdd"
      },
      "source": [
        "titanic_data_1 = pd.get_dummies(data=titanic_data, columns=titanic_data.select_dtypes(include=np.object).columns, drop_first=True)\n",
        "titanic_data_1.head()\n",
        "\n",
        "titanic_data[\"Sex\"] = titanic_data[\"Sex\"].factorize()[0]\n",
        "titanic_data.head()"
      ],
      "execution_count": null,
      "outputs": []
    },
    {
      "cell_type": "markdown",
      "metadata": {
        "collapsed": false,
        "id": "JLcd9OxJeCdg"
      },
      "source": [
        "### 11. Нормалізувати або стандартизувати кількісні ознаки."
      ]
    },
    {
      "cell_type": "code",
      "metadata": {
        "pycharm": {
          "name": "#%%\n"
        },
        "id": "4NSz-lVzeCdg",
        "outputId": "9b913f3e-8d6e-46df-e40a-835aa952045f"
      },
      "source": [
        "titanic_data_num_norm = (titanic_data_num - titanic_data_num.mean()) / (titanic_data_num.max() - titanic_data_num.min())\n",
        "titanic_data[titanic_data_num_norm.columns] = titanic_data_num_norm\n",
        "titanic_data.head()"
      ],
      "execution_count": null,
      "outputs": [
        {
          "output_type": "execute_result",
          "data": {
            "text/plain": [
              "    PassengerId  Survived    Pclass  \\\n",
              "1     -0.498876  0.616162 -0.654321   \n",
              "3     -0.496629  0.616162 -0.654321   \n",
              "6     -0.493258 -0.383838 -0.654321   \n",
              "10    -0.488764  0.616162  0.345679   \n",
              "11    -0.487640  0.616162 -0.654321   \n",
              "\n",
              "                                                 Name  Sex       Age  \\\n",
              "1   Cumings, Mrs. John Bradley (Florence Briggs Th...    0  0.104309   \n",
              "3        Futrelle, Mrs. Jacques Heath (Lily May Peel)    0  0.066611   \n",
              "6                             McCarthy, Mr. Timothy J    1  0.305364   \n",
              "10                    Sandstrom, Miss. Marguerite Rut    0 -0.322934   \n",
              "11                           Bonnell, Miss. Elizabeth    0  0.355628   \n",
              "\n",
              "       SibSp     Parch    Ticket      Fare Cabin Embarked  \n",
              "1   0.059624 -0.063599  PC 17599  0.076277   C85        C  \n",
              "3   0.059624 -0.063599    113803  0.040786  C123        S  \n",
              "6  -0.065376 -0.063599     17463  0.038370   E46        S  \n",
              "10  0.059624  0.103068   PP 9549 -0.030262    G6        S  \n",
              "11 -0.065376 -0.063599    113783 -0.011036  C103        S  "
            ],
            "text/html": [
              "<div>\n",
              "<style scoped>\n",
              "    .dataframe tbody tr th:only-of-type {\n",
              "        vertical-align: middle;\n",
              "    }\n",
              "\n",
              "    .dataframe tbody tr th {\n",
              "        vertical-align: top;\n",
              "    }\n",
              "\n",
              "    .dataframe thead th {\n",
              "        text-align: right;\n",
              "    }\n",
              "</style>\n",
              "<table border=\"1\" class=\"dataframe\">\n",
              "  <thead>\n",
              "    <tr style=\"text-align: right;\">\n",
              "      <th></th>\n",
              "      <th>PassengerId</th>\n",
              "      <th>Survived</th>\n",
              "      <th>Pclass</th>\n",
              "      <th>Name</th>\n",
              "      <th>Sex</th>\n",
              "      <th>Age</th>\n",
              "      <th>SibSp</th>\n",
              "      <th>Parch</th>\n",
              "      <th>Ticket</th>\n",
              "      <th>Fare</th>\n",
              "      <th>Cabin</th>\n",
              "      <th>Embarked</th>\n",
              "    </tr>\n",
              "  </thead>\n",
              "  <tbody>\n",
              "    <tr>\n",
              "      <th>1</th>\n",
              "      <td>-0.498876</td>\n",
              "      <td>0.616162</td>\n",
              "      <td>-0.654321</td>\n",
              "      <td>Cumings, Mrs. John Bradley (Florence Briggs Th...</td>\n",
              "      <td>0</td>\n",
              "      <td>0.104309</td>\n",
              "      <td>0.059624</td>\n",
              "      <td>-0.063599</td>\n",
              "      <td>PC 17599</td>\n",
              "      <td>0.076277</td>\n",
              "      <td>C85</td>\n",
              "      <td>C</td>\n",
              "    </tr>\n",
              "    <tr>\n",
              "      <th>3</th>\n",
              "      <td>-0.496629</td>\n",
              "      <td>0.616162</td>\n",
              "      <td>-0.654321</td>\n",
              "      <td>Futrelle, Mrs. Jacques Heath (Lily May Peel)</td>\n",
              "      <td>0</td>\n",
              "      <td>0.066611</td>\n",
              "      <td>0.059624</td>\n",
              "      <td>-0.063599</td>\n",
              "      <td>113803</td>\n",
              "      <td>0.040786</td>\n",
              "      <td>C123</td>\n",
              "      <td>S</td>\n",
              "    </tr>\n",
              "    <tr>\n",
              "      <th>6</th>\n",
              "      <td>-0.493258</td>\n",
              "      <td>-0.383838</td>\n",
              "      <td>-0.654321</td>\n",
              "      <td>McCarthy, Mr. Timothy J</td>\n",
              "      <td>1</td>\n",
              "      <td>0.305364</td>\n",
              "      <td>-0.065376</td>\n",
              "      <td>-0.063599</td>\n",
              "      <td>17463</td>\n",
              "      <td>0.038370</td>\n",
              "      <td>E46</td>\n",
              "      <td>S</td>\n",
              "    </tr>\n",
              "    <tr>\n",
              "      <th>10</th>\n",
              "      <td>-0.488764</td>\n",
              "      <td>0.616162</td>\n",
              "      <td>0.345679</td>\n",
              "      <td>Sandstrom, Miss. Marguerite Rut</td>\n",
              "      <td>0</td>\n",
              "      <td>-0.322934</td>\n",
              "      <td>0.059624</td>\n",
              "      <td>0.103068</td>\n",
              "      <td>PP 9549</td>\n",
              "      <td>-0.030262</td>\n",
              "      <td>G6</td>\n",
              "      <td>S</td>\n",
              "    </tr>\n",
              "    <tr>\n",
              "      <th>11</th>\n",
              "      <td>-0.487640</td>\n",
              "      <td>0.616162</td>\n",
              "      <td>-0.654321</td>\n",
              "      <td>Bonnell, Miss. Elizabeth</td>\n",
              "      <td>0</td>\n",
              "      <td>0.355628</td>\n",
              "      <td>-0.065376</td>\n",
              "      <td>-0.063599</td>\n",
              "      <td>113783</td>\n",
              "      <td>-0.011036</td>\n",
              "      <td>C103</td>\n",
              "      <td>S</td>\n",
              "    </tr>\n",
              "  </tbody>\n",
              "</table>\n",
              "</div>"
            ]
          },
          "metadata": {
            "tags": []
          },
          "execution_count": 715
        }
      ]
    },
    {
      "cell_type": "markdown",
      "metadata": {
        "collapsed": false,
        "pycharm": {
          "name": "#%% md\n"
        },
        "id": "JjH1RKqUeCdj"
      },
      "source": [
        "### 12. Вилучити  з  набору  даних  ознаки,  які  однозначно  не  можуть  бути  корисні  в подальшому (наприклад, id, ознаки з одного унікального значення або що містять більше 50% пропущених значень)."
      ]
    },
    {
      "cell_type": "code",
      "metadata": {
        "pycharm": {
          "name": "#%%\n"
        },
        "id": "MotvBHVaeCdk",
        "outputId": "889d27ee-aa29-4b7c-b463-c1cc1f01ffbf"
      },
      "source": [
        "titanic_data.drop(['PassengerId', 'Name', 'Ticket', 'Embarked'], axis=1, inplace=True)\n",
        "titanic_data[\"Cabin\"] = titanic_data[\"Cabin\"].notnull().astype(int)\n",
        "\n",
        "titanic_data.head()"
      ],
      "execution_count": null,
      "outputs": [
        {
          "output_type": "execute_result",
          "data": {
            "text/plain": [
              "    Survived    Pclass  Sex       Age     SibSp     Parch      Fare  Cabin\n",
              "1   0.616162 -0.654321    0  0.104309  0.059624 -0.063599  0.076277      1\n",
              "3   0.616162 -0.654321    0  0.066611  0.059624 -0.063599  0.040786      1\n",
              "6  -0.383838 -0.654321    1  0.305364 -0.065376 -0.063599  0.038370      1\n",
              "10  0.616162  0.345679    0 -0.322934  0.059624  0.103068 -0.030262      1\n",
              "11  0.616162 -0.654321    0  0.355628 -0.065376 -0.063599 -0.011036      1"
            ],
            "text/html": [
              "<div>\n",
              "<style scoped>\n",
              "    .dataframe tbody tr th:only-of-type {\n",
              "        vertical-align: middle;\n",
              "    }\n",
              "\n",
              "    .dataframe tbody tr th {\n",
              "        vertical-align: top;\n",
              "    }\n",
              "\n",
              "    .dataframe thead th {\n",
              "        text-align: right;\n",
              "    }\n",
              "</style>\n",
              "<table border=\"1\" class=\"dataframe\">\n",
              "  <thead>\n",
              "    <tr style=\"text-align: right;\">\n",
              "      <th></th>\n",
              "      <th>Survived</th>\n",
              "      <th>Pclass</th>\n",
              "      <th>Sex</th>\n",
              "      <th>Age</th>\n",
              "      <th>SibSp</th>\n",
              "      <th>Parch</th>\n",
              "      <th>Fare</th>\n",
              "      <th>Cabin</th>\n",
              "    </tr>\n",
              "  </thead>\n",
              "  <tbody>\n",
              "    <tr>\n",
              "      <th>1</th>\n",
              "      <td>0.616162</td>\n",
              "      <td>-0.654321</td>\n",
              "      <td>0</td>\n",
              "      <td>0.104309</td>\n",
              "      <td>0.059624</td>\n",
              "      <td>-0.063599</td>\n",
              "      <td>0.076277</td>\n",
              "      <td>1</td>\n",
              "    </tr>\n",
              "    <tr>\n",
              "      <th>3</th>\n",
              "      <td>0.616162</td>\n",
              "      <td>-0.654321</td>\n",
              "      <td>0</td>\n",
              "      <td>0.066611</td>\n",
              "      <td>0.059624</td>\n",
              "      <td>-0.063599</td>\n",
              "      <td>0.040786</td>\n",
              "      <td>1</td>\n",
              "    </tr>\n",
              "    <tr>\n",
              "      <th>6</th>\n",
              "      <td>-0.383838</td>\n",
              "      <td>-0.654321</td>\n",
              "      <td>1</td>\n",
              "      <td>0.305364</td>\n",
              "      <td>-0.065376</td>\n",
              "      <td>-0.063599</td>\n",
              "      <td>0.038370</td>\n",
              "      <td>1</td>\n",
              "    </tr>\n",
              "    <tr>\n",
              "      <th>10</th>\n",
              "      <td>0.616162</td>\n",
              "      <td>0.345679</td>\n",
              "      <td>0</td>\n",
              "      <td>-0.322934</td>\n",
              "      <td>0.059624</td>\n",
              "      <td>0.103068</td>\n",
              "      <td>-0.030262</td>\n",
              "      <td>1</td>\n",
              "    </tr>\n",
              "    <tr>\n",
              "      <th>11</th>\n",
              "      <td>0.616162</td>\n",
              "      <td>-0.654321</td>\n",
              "      <td>0</td>\n",
              "      <td>0.355628</td>\n",
              "      <td>-0.065376</td>\n",
              "      <td>-0.063599</td>\n",
              "      <td>-0.011036</td>\n",
              "      <td>1</td>\n",
              "    </tr>\n",
              "  </tbody>\n",
              "</table>\n",
              "</div>"
            ]
          },
          "metadata": {
            "tags": []
          },
          "execution_count": 716
        }
      ]
    }
  ]
}